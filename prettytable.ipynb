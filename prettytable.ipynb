{
 "cells": [
  {
   "cell_type": "code",
   "execution_count": 1,
   "metadata": {},
   "outputs": [],
   "source": [
    "from prettytable import PrettyTable"
   ]
  },
  {
   "cell_type": "code",
   "execution_count": 8,
   "metadata": {},
   "outputs": [],
   "source": [
    "table = PrettyTable()"
   ]
  },
  {
   "cell_type": "code",
   "execution_count": 11,
   "metadata": {},
   "outputs": [],
   "source": [
    "table.field_names = ['NAME', 'SEX', 'AGE']\n",
    "table.add_row(['andy', 'm', 53])\n",
    "table.add_row(['gfg', 'm', 56])\n",
    "table.add_row(['fggf', 'm', 56])\n",
    "table.add_row(['ikyy', 'm', 58])\n",
    "table.add_row(['akyk', 'm', 57])\n",
    "table.add_row(['akykyrry', 'm', 56])"
   ]
  },
  {
   "cell_type": "code",
   "execution_count": 12,
   "metadata": {},
   "outputs": [
    {
     "name": "stdout",
     "output_type": "stream",
     "text": [
      "+----------+-----+-----+\n",
      "|   NAME   | SEX | AGE |\n",
      "+----------+-----+-----+\n",
      "|   andy   |  m  |  53 |\n",
      "|   andy   |  m  |  53 |\n",
      "|   gfg    |  m  |  56 |\n",
      "|   fggf   |  m  |  56 |\n",
      "|   ikyy   |  m  |  58 |\n",
      "|   akyk   |  m  |  57 |\n",
      "| akykyrry |  m  |  56 |\n",
      "+----------+-----+-----+\n"
     ]
    }
   ],
   "source": [
    "print(table)"
   ]
  },
  {
   "cell_type": "code",
   "execution_count": null,
   "metadata": {},
   "outputs": [],
   "source": []
  }
 ],
 "metadata": {
  "kernelspec": {
   "display_name": "Python 3",
   "language": "python",
   "name": "python3"
  },
  "language_info": {
   "codemirror_mode": {
    "name": "ipython",
    "version": 3
   },
   "file_extension": ".py",
   "mimetype": "text/x-python",
   "name": "python",
   "nbconvert_exporter": "python",
   "pygments_lexer": "ipython3",
   "version": "3.7.6"
  }
 },
 "nbformat": 4,
 "nbformat_minor": 4
}
